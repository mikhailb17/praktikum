{
 "cells": [
  {
   "cell_type": "markdown",
   "metadata": {},
   "source": [
    "## Определение стоимости автомобиля"
   ]
  },
  {
   "cell_type": "markdown",
   "metadata": {},
   "source": [
    "### 1. Подготовка данных"
   ]
  },
  {
   "cell_type": "markdown",
   "metadata": {},
   "source": [
    "Импортируем необходимые библиотеки."
   ]
  },
  {
   "cell_type": "code",
   "execution_count": 1,
   "metadata": {},
   "outputs": [],
   "source": [
    "import pandas as pd\n",
    "import seaborn as sns\n",
    "import numpy as np\n",
    "import matplotlib.pyplot as plt\n",
    "import warnings as warn\n",
    "from sklearn.model_selection import train_test_split, GridSearchCV, cross_validate\n",
    "from sklearn.metrics import make_scorer\n",
    "from catboost import CatBoostRegressor\n",
    "from lightgbm import LGBMRegressor\n",
    "from sklearn.linear_model import LinearRegression\n",
    "from sklearn.ensemble import RandomForestRegressor"
   ]
  },
  {
   "cell_type": "markdown",
   "metadata": {},
   "source": [
    "Прочитаем файл *autos.csv* и сохраним его в переменной *autos*. Посмотрим таблицу и общую информацию о ней."
   ]
  },
  {
   "cell_type": "code",
   "execution_count": 2,
   "metadata": {},
   "outputs": [
    {
     "data": {
      "text/html": [
       "<div>\n",
       "<style scoped>\n",
       "    .dataframe tbody tr th:only-of-type {\n",
       "        vertical-align: middle;\n",
       "    }\n",
       "\n",
       "    .dataframe tbody tr th {\n",
       "        vertical-align: top;\n",
       "    }\n",
       "\n",
       "    .dataframe thead th {\n",
       "        text-align: right;\n",
       "    }\n",
       "</style>\n",
       "<table border=\"1\" class=\"dataframe\">\n",
       "  <thead>\n",
       "    <tr style=\"text-align: right;\">\n",
       "      <th></th>\n",
       "      <th>DateCrawled</th>\n",
       "      <th>Price</th>\n",
       "      <th>VehicleType</th>\n",
       "      <th>RegistrationYear</th>\n",
       "      <th>Gearbox</th>\n",
       "      <th>Power</th>\n",
       "      <th>Model</th>\n",
       "      <th>Kilometer</th>\n",
       "      <th>RegistrationMonth</th>\n",
       "      <th>FuelType</th>\n",
       "      <th>Brand</th>\n",
       "      <th>NotRepaired</th>\n",
       "      <th>DateCreated</th>\n",
       "      <th>NumberOfPictures</th>\n",
       "      <th>PostalCode</th>\n",
       "      <th>LastSeen</th>\n",
       "    </tr>\n",
       "  </thead>\n",
       "  <tbody>\n",
       "    <tr>\n",
       "      <td>0</td>\n",
       "      <td>2016-03-24 11:52:17</td>\n",
       "      <td>480</td>\n",
       "      <td>NaN</td>\n",
       "      <td>1993</td>\n",
       "      <td>manual</td>\n",
       "      <td>0</td>\n",
       "      <td>golf</td>\n",
       "      <td>150000</td>\n",
       "      <td>0</td>\n",
       "      <td>petrol</td>\n",
       "      <td>volkswagen</td>\n",
       "      <td>NaN</td>\n",
       "      <td>2016-03-24 00:00:00</td>\n",
       "      <td>0</td>\n",
       "      <td>70435</td>\n",
       "      <td>2016-04-07 03:16:57</td>\n",
       "    </tr>\n",
       "    <tr>\n",
       "      <td>1</td>\n",
       "      <td>2016-03-24 10:58:45</td>\n",
       "      <td>18300</td>\n",
       "      <td>coupe</td>\n",
       "      <td>2011</td>\n",
       "      <td>manual</td>\n",
       "      <td>190</td>\n",
       "      <td>NaN</td>\n",
       "      <td>125000</td>\n",
       "      <td>5</td>\n",
       "      <td>gasoline</td>\n",
       "      <td>audi</td>\n",
       "      <td>yes</td>\n",
       "      <td>2016-03-24 00:00:00</td>\n",
       "      <td>0</td>\n",
       "      <td>66954</td>\n",
       "      <td>2016-04-07 01:46:50</td>\n",
       "    </tr>\n",
       "    <tr>\n",
       "      <td>2</td>\n",
       "      <td>2016-03-14 12:52:21</td>\n",
       "      <td>9800</td>\n",
       "      <td>suv</td>\n",
       "      <td>2004</td>\n",
       "      <td>auto</td>\n",
       "      <td>163</td>\n",
       "      <td>grand</td>\n",
       "      <td>125000</td>\n",
       "      <td>8</td>\n",
       "      <td>gasoline</td>\n",
       "      <td>jeep</td>\n",
       "      <td>NaN</td>\n",
       "      <td>2016-03-14 00:00:00</td>\n",
       "      <td>0</td>\n",
       "      <td>90480</td>\n",
       "      <td>2016-04-05 12:47:46</td>\n",
       "    </tr>\n",
       "    <tr>\n",
       "      <td>3</td>\n",
       "      <td>2016-03-17 16:54:04</td>\n",
       "      <td>1500</td>\n",
       "      <td>small</td>\n",
       "      <td>2001</td>\n",
       "      <td>manual</td>\n",
       "      <td>75</td>\n",
       "      <td>golf</td>\n",
       "      <td>150000</td>\n",
       "      <td>6</td>\n",
       "      <td>petrol</td>\n",
       "      <td>volkswagen</td>\n",
       "      <td>no</td>\n",
       "      <td>2016-03-17 00:00:00</td>\n",
       "      <td>0</td>\n",
       "      <td>91074</td>\n",
       "      <td>2016-03-17 17:40:17</td>\n",
       "    </tr>\n",
       "    <tr>\n",
       "      <td>4</td>\n",
       "      <td>2016-03-31 17:25:20</td>\n",
       "      <td>3600</td>\n",
       "      <td>small</td>\n",
       "      <td>2008</td>\n",
       "      <td>manual</td>\n",
       "      <td>69</td>\n",
       "      <td>fabia</td>\n",
       "      <td>90000</td>\n",
       "      <td>7</td>\n",
       "      <td>gasoline</td>\n",
       "      <td>skoda</td>\n",
       "      <td>no</td>\n",
       "      <td>2016-03-31 00:00:00</td>\n",
       "      <td>0</td>\n",
       "      <td>60437</td>\n",
       "      <td>2016-04-06 10:17:21</td>\n",
       "    </tr>\n",
       "  </tbody>\n",
       "</table>\n",
       "</div>"
      ],
      "text/plain": [
       "           DateCrawled  Price VehicleType  RegistrationYear Gearbox  Power  \\\n",
       "0  2016-03-24 11:52:17    480         NaN              1993  manual      0   \n",
       "1  2016-03-24 10:58:45  18300       coupe              2011  manual    190   \n",
       "2  2016-03-14 12:52:21   9800         suv              2004    auto    163   \n",
       "3  2016-03-17 16:54:04   1500       small              2001  manual     75   \n",
       "4  2016-03-31 17:25:20   3600       small              2008  manual     69   \n",
       "\n",
       "   Model  Kilometer  RegistrationMonth  FuelType       Brand NotRepaired  \\\n",
       "0   golf     150000                  0    petrol  volkswagen         NaN   \n",
       "1    NaN     125000                  5  gasoline        audi         yes   \n",
       "2  grand     125000                  8  gasoline        jeep         NaN   \n",
       "3   golf     150000                  6    petrol  volkswagen          no   \n",
       "4  fabia      90000                  7  gasoline       skoda          no   \n",
       "\n",
       "           DateCreated  NumberOfPictures  PostalCode             LastSeen  \n",
       "0  2016-03-24 00:00:00                 0       70435  2016-04-07 03:16:57  \n",
       "1  2016-03-24 00:00:00                 0       66954  2016-04-07 01:46:50  \n",
       "2  2016-03-14 00:00:00                 0       90480  2016-04-05 12:47:46  \n",
       "3  2016-03-17 00:00:00                 0       91074  2016-03-17 17:40:17  \n",
       "4  2016-03-31 00:00:00                 0       60437  2016-04-06 10:17:21  "
      ]
     },
     "execution_count": 2,
     "metadata": {},
     "output_type": "execute_result"
    }
   ],
   "source": [
    "autos = pd.read_csv('/datasets/autos.csv')\n",
    "autos.head(5)"
   ]
  },
  {
   "cell_type": "code",
   "execution_count": 3,
   "metadata": {},
   "outputs": [
    {
     "name": "stdout",
     "output_type": "stream",
     "text": [
      "<class 'pandas.core.frame.DataFrame'>\n",
      "RangeIndex: 354369 entries, 0 to 354368\n",
      "Data columns (total 16 columns):\n",
      "DateCrawled          354369 non-null object\n",
      "Price                354369 non-null int64\n",
      "VehicleType          316879 non-null object\n",
      "RegistrationYear     354369 non-null int64\n",
      "Gearbox              334536 non-null object\n",
      "Power                354369 non-null int64\n",
      "Model                334664 non-null object\n",
      "Kilometer            354369 non-null int64\n",
      "RegistrationMonth    354369 non-null int64\n",
      "FuelType             321474 non-null object\n",
      "Brand                354369 non-null object\n",
      "NotRepaired          283215 non-null object\n",
      "DateCreated          354369 non-null object\n",
      "NumberOfPictures     354369 non-null int64\n",
      "PostalCode           354369 non-null int64\n",
      "LastSeen             354369 non-null object\n",
      "dtypes: int64(7), object(9)\n",
      "memory usage: 43.3+ MB\n"
     ]
    }
   ],
   "source": [
    "autos.info()"
   ]
  },
  {
   "cell_type": "markdown",
   "metadata": {},
   "source": [
    "Датафрейм содержит 354369 строк и 16 столбцов. Используемые типы данных: *int64* (7) и *object* (9). В 5 столбцах с типом *object* присутствуют пропуски, а в столбцах с числовыми данными — нереалистичные значения (например, мощность автомобиля, равная 0 л. с.). Это могло быть вызвано тем, что пользователи не указали часть данных, либо указали их неверно.\n",
    "\n",
    "Вероятно, сервис позволяет пользователям редактировать анкеты, например, изменять цену автомобиля или дописывать не указанные ранее характеристики. В таком случае среди данных могут оказаться разные версии одних и тех же объявлений, фактически являющиеся дубликатами. Проверим это предположение.\n",
    "\n",
    "Удалим столбцы с количеством фотографий и последней активностью пользователей, которые не пригодятся для дальнейшего использования."
   ]
  },
  {
   "cell_type": "code",
   "execution_count": 4,
   "metadata": {},
   "outputs": [],
   "source": [
    "autos.drop(['LastSeen', 'NumberOfPictures'], axis=1, inplace=True)"
   ]
  },
  {
   "cell_type": "markdown",
   "metadata": {},
   "source": [
    "В данных отсутствует информация об уникальных идентификаторах анкет, однако дубликаты, скачанные из базы в разное время, можно определить по совпадению других характеристик."
   ]
  },
  {
   "cell_type": "code",
   "execution_count": 5,
   "metadata": {},
   "outputs": [
    {
     "data": {
      "text/plain": [
       "10194"
      ]
     },
     "execution_count": 5,
     "metadata": {},
     "output_type": "execute_result"
    }
   ],
   "source": [
    "columns_list = list(autos.columns)\n",
    "columns_list.remove('DateCrawled')\n",
    "autos.duplicated(columns_list).sum()"
   ]
  },
  {
   "cell_type": "markdown",
   "metadata": {},
   "source": [
    "Удалим найденные дубликаты."
   ]
  },
  {
   "cell_type": "code",
   "execution_count": 6,
   "metadata": {},
   "outputs": [
    {
     "data": {
      "text/plain": [
       "0"
      ]
     },
     "execution_count": 6,
     "metadata": {},
     "output_type": "execute_result"
    }
   ],
   "source": [
    "autos.drop_duplicates(columns_list, inplace=True)\n",
    "autos.duplicated(columns_list).sum()"
   ]
  },
  {
   "cell_type": "markdown",
   "metadata": {},
   "source": [
    "Проверим, присутствуют ли в датафрейме разные версии одних и тех же анкет с дополненной информацией, на основе которой можно заполнить часть пропущеннных значений. Для этого предварительно создадим список столбцов, в которых есть пропуски, а также список оставшихся столбцов, исключая цену автомобиля, так как при редактировании анкеты она могла меняться."
   ]
  },
  {
   "cell_type": "code",
   "execution_count": 7,
   "metadata": {},
   "outputs": [
    {
     "data": {
      "text/plain": [
       "['VehicleType', 'Gearbox', 'Model', 'FuelType', 'NotRepaired']"
      ]
     },
     "execution_count": 7,
     "metadata": {},
     "output_type": "execute_result"
    }
   ],
   "source": [
    "nan_columns_list = list(autos.columns[autos.isna().sum() > 0])\n",
    "nan_columns_list"
   ]
  },
  {
   "cell_type": "code",
   "execution_count": 8,
   "metadata": {},
   "outputs": [
    {
     "data": {
      "text/plain": [
       "['RegistrationYear',\n",
       " 'Power',\n",
       " 'Kilometer',\n",
       " 'RegistrationMonth',\n",
       " 'Brand',\n",
       " 'DateCreated',\n",
       " 'PostalCode']"
      ]
     },
     "execution_count": 8,
     "metadata": {},
     "output_type": "execute_result"
    }
   ],
   "source": [
    "for i in nan_columns_list:\n",
    "    columns_list.remove(i)\n",
    "columns_list.remove('Price')\n",
    "columns_list"
   ]
  },
  {
   "cell_type": "code",
   "execution_count": 9,
   "metadata": {
    "scrolled": false
   },
   "outputs": [
    {
     "data": {
      "text/html": [
       "<div>\n",
       "<style scoped>\n",
       "    .dataframe tbody tr th:only-of-type {\n",
       "        vertical-align: middle;\n",
       "    }\n",
       "\n",
       "    .dataframe tbody tr th {\n",
       "        vertical-align: top;\n",
       "    }\n",
       "\n",
       "    .dataframe thead th {\n",
       "        text-align: right;\n",
       "    }\n",
       "</style>\n",
       "<table border=\"1\" class=\"dataframe\">\n",
       "  <thead>\n",
       "    <tr style=\"text-align: right;\">\n",
       "      <th></th>\n",
       "      <th>DateCrawled</th>\n",
       "      <th>Price</th>\n",
       "      <th>VehicleType</th>\n",
       "      <th>RegistrationYear</th>\n",
       "      <th>Gearbox</th>\n",
       "      <th>Power</th>\n",
       "      <th>Model</th>\n",
       "      <th>Kilometer</th>\n",
       "      <th>RegistrationMonth</th>\n",
       "      <th>FuelType</th>\n",
       "      <th>Brand</th>\n",
       "      <th>NotRepaired</th>\n",
       "      <th>DateCreated</th>\n",
       "      <th>PostalCode</th>\n",
       "    </tr>\n",
       "  </thead>\n",
       "  <tbody>\n",
       "    <tr>\n",
       "      <td>69320</td>\n",
       "      <td>2016-03-11 22:53:09</td>\n",
       "      <td>20</td>\n",
       "      <td>NaN</td>\n",
       "      <td>1910</td>\n",
       "      <td>NaN</td>\n",
       "      <td>0</td>\n",
       "      <td>NaN</td>\n",
       "      <td>5000</td>\n",
       "      <td>0</td>\n",
       "      <td>NaN</td>\n",
       "      <td>trabant</td>\n",
       "      <td>NaN</td>\n",
       "      <td>2016-03-11 00:00:00</td>\n",
       "      <td>6618</td>\n",
       "    </tr>\n",
       "    <tr>\n",
       "      <td>190238</td>\n",
       "      <td>2016-03-11 23:49:04</td>\n",
       "      <td>15</td>\n",
       "      <td>NaN</td>\n",
       "      <td>1910</td>\n",
       "      <td>NaN</td>\n",
       "      <td>0</td>\n",
       "      <td>NaN</td>\n",
       "      <td>5000</td>\n",
       "      <td>0</td>\n",
       "      <td>NaN</td>\n",
       "      <td>trabant</td>\n",
       "      <td>NaN</td>\n",
       "      <td>2016-03-11 00:00:00</td>\n",
       "      <td>6618</td>\n",
       "    </tr>\n",
       "    <tr>\n",
       "      <td>137324</td>\n",
       "      <td>2016-03-09 16:51:17</td>\n",
       "      <td>11500</td>\n",
       "      <td>convertible</td>\n",
       "      <td>1929</td>\n",
       "      <td>manual</td>\n",
       "      <td>15</td>\n",
       "      <td>other</td>\n",
       "      <td>5000</td>\n",
       "      <td>1</td>\n",
       "      <td>NaN</td>\n",
       "      <td>bmw</td>\n",
       "      <td>yes</td>\n",
       "      <td>2016-03-09 00:00:00</td>\n",
       "      <td>70569</td>\n",
       "    </tr>\n",
       "    <tr>\n",
       "      <td>230095</td>\n",
       "      <td>2016-03-09 16:52:31</td>\n",
       "      <td>11500</td>\n",
       "      <td>convertible</td>\n",
       "      <td>1929</td>\n",
       "      <td>manual</td>\n",
       "      <td>15</td>\n",
       "      <td>other</td>\n",
       "      <td>5000</td>\n",
       "      <td>1</td>\n",
       "      <td>petrol</td>\n",
       "      <td>bmw</td>\n",
       "      <td>yes</td>\n",
       "      <td>2016-03-09 00:00:00</td>\n",
       "      <td>70569</td>\n",
       "    </tr>\n",
       "    <tr>\n",
       "      <td>111211</td>\n",
       "      <td>2016-04-03 19:49:45</td>\n",
       "      <td>11444</td>\n",
       "      <td>sedan</td>\n",
       "      <td>1957</td>\n",
       "      <td>manual</td>\n",
       "      <td>60</td>\n",
       "      <td>other</td>\n",
       "      <td>125000</td>\n",
       "      <td>7</td>\n",
       "      <td>petrol</td>\n",
       "      <td>volvo</td>\n",
       "      <td>NaN</td>\n",
       "      <td>2016-04-03 00:00:00</td>\n",
       "      <td>90411</td>\n",
       "    </tr>\n",
       "    <tr>\n",
       "      <td>146816</td>\n",
       "      <td>2016-04-03 17:57:26</td>\n",
       "      <td>11444</td>\n",
       "      <td>sedan</td>\n",
       "      <td>1957</td>\n",
       "      <td>manual</td>\n",
       "      <td>60</td>\n",
       "      <td>other</td>\n",
       "      <td>125000</td>\n",
       "      <td>7</td>\n",
       "      <td>petrol</td>\n",
       "      <td>volvo</td>\n",
       "      <td>no</td>\n",
       "      <td>2016-04-03 00:00:00</td>\n",
       "      <td>90411</td>\n",
       "    </tr>\n",
       "  </tbody>\n",
       "</table>\n",
       "</div>"
      ],
      "text/plain": [
       "                DateCrawled  Price  VehicleType  RegistrationYear Gearbox  \\\n",
       "69320   2016-03-11 22:53:09     20          NaN              1910     NaN   \n",
       "190238  2016-03-11 23:49:04     15          NaN              1910     NaN   \n",
       "137324  2016-03-09 16:51:17  11500  convertible              1929  manual   \n",
       "230095  2016-03-09 16:52:31  11500  convertible              1929  manual   \n",
       "111211  2016-04-03 19:49:45  11444        sedan              1957  manual   \n",
       "146816  2016-04-03 17:57:26  11444        sedan              1957  manual   \n",
       "\n",
       "        Power  Model  Kilometer  RegistrationMonth FuelType    Brand  \\\n",
       "69320       0    NaN       5000                  0      NaN  trabant   \n",
       "190238      0    NaN       5000                  0      NaN  trabant   \n",
       "137324     15  other       5000                  1      NaN      bmw   \n",
       "230095     15  other       5000                  1   petrol      bmw   \n",
       "111211     60  other     125000                  7   petrol    volvo   \n",
       "146816     60  other     125000                  7   petrol    volvo   \n",
       "\n",
       "       NotRepaired          DateCreated  PostalCode  \n",
       "69320          NaN  2016-03-11 00:00:00        6618  \n",
       "190238         NaN  2016-03-11 00:00:00        6618  \n",
       "137324         yes  2016-03-09 00:00:00       70569  \n",
       "230095         yes  2016-03-09 00:00:00       70569  \n",
       "111211         NaN  2016-04-03 00:00:00       90411  \n",
       "146816          no  2016-04-03 00:00:00       90411  "
      ]
     },
     "execution_count": 9,
     "metadata": {},
     "output_type": "execute_result"
    }
   ],
   "source": [
    "autos[autos.duplicated(columns_list, keep=False)].sort_values(columns_list).head(6)"
   ]
  },
  {
   "cell_type": "markdown",
   "metadata": {},
   "source": [
    "По полученному срезу данных видно, что описанные ранее записи действительно присутствуют. Создадм функцию *fill_duplicates*, которая для каждой строки с пропусками, имеющей дубликаты по столбцам из *columns_list*, найдёт эти дубликаты и на их основе заполнит недостающую информацию."
   ]
  },
  {
   "cell_type": "code",
   "execution_count": 10,
   "metadata": {
    "scrolled": true
   },
   "outputs": [],
   "source": [
    "def fill_duplicates(row):\n",
    "    # список столбцов с пропусками в row\n",
    "    nans = list(row.index[row.isna()])\n",
    "    # срез дубликатов row по columns_list\n",
    "    duplicates = autos\n",
    "    for i in columns_list:\n",
    "        duplicates = duplicates[duplicates[i] == row[i]]\n",
    "    # удаление row из среза\n",
    "    duplicates = duplicates[duplicates.index != row.name]\n",
    "    # список столбцов без пропусков среди nan_columns_list в row\n",
    "    not_nans = nan_columns_list.copy()\n",
    "    for i in nans:\n",
    "        not_nans.remove(i)\n",
    "    # срез дубликатов по not_nans (все непропущенные значения в столбцах not_nans должны совпадать)\n",
    "    for i in not_nans:\n",
    "        duplicates = duplicates[((duplicates[i].notna()) & (duplicates[i] == row[i])) | (duplicates[i].isna())]\n",
    "    # заполнение пропусков значениями из среза дубликатов\n",
    "    try:\n",
    "        for i in range(len(duplicates)):\n",
    "            autos.loc[row.name, :] = autos.loc[row.name, :].fillna(duplicates.iloc[i])\n",
    "    except:\n",
    "        pass\n",
    "\n",
    "autos.loc[(autos.duplicated(columns_list, keep=False) & (autos.isna().any(1)))].apply(fill_duplicates, axis=1);"
   ]
  },
  {
   "cell_type": "markdown",
   "metadata": {},
   "source": [
    "Посчитаем количество дубликатов по всем столбцам кроме *DateCrawled* и *Price* (в том числе возникшим в результате заполнения пропусков)."
   ]
  },
  {
   "cell_type": "code",
   "execution_count": 11,
   "metadata": {},
   "outputs": [
    {
     "data": {
      "text/plain": [
       "4018"
      ]
     },
     "execution_count": 11,
     "metadata": {},
     "output_type": "execute_result"
    }
   ],
   "source": [
    "columns_list.extend(nan_columns_list)\n",
    "autos.duplicated(columns_list).sum()"
   ]
  },
  {
   "cell_type": "markdown",
   "metadata": {},
   "source": [
    "Удалим найденные дубликаты, предварительно отсортировав срез по дате. Таким образом, среди продублированных анкет останутся только самые новые, имеющие наиболее актуальные данные о цене."
   ]
  },
  {
   "cell_type": "code",
   "execution_count": 12,
   "metadata": {
    "scrolled": true
   },
   "outputs": [
    {
     "data": {
      "text/plain": [
       "0"
      ]
     },
     "execution_count": 12,
     "metadata": {},
     "output_type": "execute_result"
    }
   ],
   "source": [
    "autos['DateCrawled'] = pd.to_datetime(autos['DateCrawled'])\n",
    "\n",
    "warn.filterwarnings('ignore')\n",
    "autos = autos.drop(index=autos[autos.sort_values('DateCrawled').duplicated(columns_list, keep='last')].index)\n",
    "warn.filterwarnings('default')\n",
    "\n",
    "autos.duplicated(columns_list).sum()"
   ]
  },
  {
   "cell_type": "markdown",
   "metadata": {},
   "source": [
    "Удалим строки, содержащие все возможные пропуски, так как они содержат слишком мало информации. Также удалим столбцы, данные которых не могут повлиять на стоимость автомобилей."
   ]
  },
  {
   "cell_type": "code",
   "execution_count": 13,
   "metadata": {},
   "outputs": [],
   "source": [
    "mask = (autos['VehicleType'].isna() & \n",
    "        autos['Gearbox'].isna() & \n",
    "        autos['Model'].isna() & \n",
    "        autos['FuelType'].isna() &\n",
    "        autos['NotRepaired'].isna())\n",
    "autos.drop(index=autos[mask].index, inplace=True)\n",
    "autos.drop(['DateCrawled', \n",
    "            'RegistrationMonth', \n",
    "            'DateCreated', \n",
    "            'PostalCode'], axis=1, inplace=True)"
   ]
  },
  {
   "cell_type": "markdown",
   "metadata": {},
   "source": [
    "Исследуем количественные признаки."
   ]
  },
  {
   "cell_type": "code",
   "execution_count": 14,
   "metadata": {},
   "outputs": [
    {
     "data": {
      "text/html": [
       "<div>\n",
       "<style scoped>\n",
       "    .dataframe tbody tr th:only-of-type {\n",
       "        vertical-align: middle;\n",
       "    }\n",
       "\n",
       "    .dataframe tbody tr th {\n",
       "        vertical-align: top;\n",
       "    }\n",
       "\n",
       "    .dataframe thead th {\n",
       "        text-align: right;\n",
       "    }\n",
       "</style>\n",
       "<table border=\"1\" class=\"dataframe\">\n",
       "  <thead>\n",
       "    <tr style=\"text-align: right;\">\n",
       "      <th></th>\n",
       "      <th>Price</th>\n",
       "      <th>RegistrationYear</th>\n",
       "      <th>Power</th>\n",
       "      <th>Kilometer</th>\n",
       "    </tr>\n",
       "  </thead>\n",
       "  <tbody>\n",
       "    <tr>\n",
       "      <td>count</td>\n",
       "      <td>337981.000000</td>\n",
       "      <td>337981.000000</td>\n",
       "      <td>337981.000000</td>\n",
       "      <td>337981.000000</td>\n",
       "    </tr>\n",
       "    <tr>\n",
       "      <td>mean</td>\n",
       "      <td>4415.939278</td>\n",
       "      <td>2003.858838</td>\n",
       "      <td>110.500824</td>\n",
       "      <td>128451.924812</td>\n",
       "    </tr>\n",
       "    <tr>\n",
       "      <td>std</td>\n",
       "      <td>4512.066347</td>\n",
       "      <td>71.296358</td>\n",
       "      <td>192.916021</td>\n",
       "      <td>37599.789947</td>\n",
       "    </tr>\n",
       "    <tr>\n",
       "      <td>min</td>\n",
       "      <td>0.000000</td>\n",
       "      <td>1000.000000</td>\n",
       "      <td>0.000000</td>\n",
       "      <td>5000.000000</td>\n",
       "    </tr>\n",
       "    <tr>\n",
       "      <td>1%</td>\n",
       "      <td>0.000000</td>\n",
       "      <td>1980.000000</td>\n",
       "      <td>0.000000</td>\n",
       "      <td>5000.000000</td>\n",
       "    </tr>\n",
       "    <tr>\n",
       "      <td>25%</td>\n",
       "      <td>1080.000000</td>\n",
       "      <td>1999.000000</td>\n",
       "      <td>69.000000</td>\n",
       "      <td>125000.000000</td>\n",
       "    </tr>\n",
       "    <tr>\n",
       "      <td>50%</td>\n",
       "      <td>2700.000000</td>\n",
       "      <td>2003.000000</td>\n",
       "      <td>105.000000</td>\n",
       "      <td>150000.000000</td>\n",
       "    </tr>\n",
       "    <tr>\n",
       "      <td>75%</td>\n",
       "      <td>6399.000000</td>\n",
       "      <td>2008.000000</td>\n",
       "      <td>143.000000</td>\n",
       "      <td>150000.000000</td>\n",
       "    </tr>\n",
       "    <tr>\n",
       "      <td>99%</td>\n",
       "      <td>18800.000000</td>\n",
       "      <td>2018.000000</td>\n",
       "      <td>300.000000</td>\n",
       "      <td>150000.000000</td>\n",
       "    </tr>\n",
       "    <tr>\n",
       "      <td>max</td>\n",
       "      <td>20000.000000</td>\n",
       "      <td>9999.000000</td>\n",
       "      <td>20000.000000</td>\n",
       "      <td>150000.000000</td>\n",
       "    </tr>\n",
       "  </tbody>\n",
       "</table>\n",
       "</div>"
      ],
      "text/plain": [
       "               Price  RegistrationYear          Power      Kilometer\n",
       "count  337981.000000     337981.000000  337981.000000  337981.000000\n",
       "mean     4415.939278       2003.858838     110.500824  128451.924812\n",
       "std      4512.066347         71.296358     192.916021   37599.789947\n",
       "min         0.000000       1000.000000       0.000000    5000.000000\n",
       "1%          0.000000       1980.000000       0.000000    5000.000000\n",
       "25%      1080.000000       1999.000000      69.000000  125000.000000\n",
       "50%      2700.000000       2003.000000     105.000000  150000.000000\n",
       "75%      6399.000000       2008.000000     143.000000  150000.000000\n",
       "99%     18800.000000       2018.000000     300.000000  150000.000000\n",
       "max     20000.000000       9999.000000   20000.000000  150000.000000"
      ]
     },
     "execution_count": 14,
     "metadata": {},
     "output_type": "execute_result"
    }
   ],
   "source": [
    "autos.describe(percentiles=[.01, .25, .5, .75, .99])"
   ]
  },
  {
   "cell_type": "markdown",
   "metadata": {},
   "source": [
    "В данных присутствуют выбросы, а также нереалистичные значения года регистрации, цены и мощности автомобилей. Исследуем распределения двух последних признаков."
   ]
  },
  {
   "cell_type": "code",
   "execution_count": 15,
   "metadata": {
    "scrolled": false
   },
   "outputs": [
    {
     "data": {
      "image/png": "[encoded data removed]",
      "text/plain": [
       "<Figure size 1224x288 with 1 Axes>"
      ]
     },
     "metadata": {
      "needs_background": "light"
     },
     "output_type": "display_data"
    },
    {
     "data": {
      "image/png": "[encoded data removed]",
      "text/plain": [
       "<Figure size 1224x288 with 1 Axes>"
      ]
     },
     "metadata": {
      "needs_background": "light"
     },
     "output_type": "display_data"
    }
   ],
   "source": [
    "fig, ax = plt.subplots()\n",
    "fig.set_size_inches(17, 4)\n",
    "sns.distplot(autos.query('Power < 300')['Power'], ax=ax, bins=60, kde=False)\n",
    "ax.set_title('Распределение автомобилей по мощности (до 300 л. с.)', fontsize=14)\n",
    "ax.set_xlabel('Мощность (л. с.)', fontsize=12)\n",
    "ax.set_xticks(range(0, 301, 20))\n",
    "ax.grid(True)\n",
    "\n",
    "fig, ax = plt.subplots()\n",
    "fig.set_size_inches(17, 4)\n",
    "sns.distplot(autos.query('Price < 1000')['Price'], ax=ax, bins=100, kde=False)\n",
    "ax.set_title('Распределение автомобилей по цене (до 1000 евро)', fontsize=14)\n",
    "ax.set_xlabel('Цена (евро)', fontsize=12)\n",
    "ax.set_xticks(range(0, 1001, 50))\n",
    "ax.grid(True)"
   ]
  },
  {
   "cell_type": "markdown",
   "metadata": {},
   "source": [
    "В обоих случаях наблюдается большое количество нулевых значений. Скорее всего это вызвано тем, что пользователи не указали соответствующую информацию.\n",
    "\n",
    "Исходя из полученных процентилей, графиков распределения и общих представлениях о реалистичности, отфильтруем датасет по следующим параметрам:\n",
    "* цена — более 100 евро;\n",
    "* год регистрации — от 1980 до 2020;\n",
    "* мощность — от 40 до 300."
   ]
  },
  {
   "cell_type": "code",
   "execution_count": 16,
   "metadata": {},
   "outputs": [],
   "source": [
    "autos = autos.query('(Price >= 100) & (1980 <= RegistrationYear <= 2020) & (40 <= Power <= 300)').reset_index(drop=True)"
   ]
  },
  {
   "cell_type": "markdown",
   "metadata": {},
   "source": [
    "Заполним оставшиеся пропуски строковым значением *null*."
   ]
  },
  {
   "cell_type": "code",
   "execution_count": 17,
   "metadata": {
    "scrolled": true
   },
   "outputs": [
    {
     "name": "stdout",
     "output_type": "stream",
     "text": [
      "<class 'pandas.core.frame.DataFrame'>\n",
      "RangeIndex: 286542 entries, 0 to 286541\n",
      "Data columns (total 10 columns):\n",
      "Price               286542 non-null int64\n",
      "VehicleType         286542 non-null object\n",
      "RegistrationYear    286542 non-null int64\n",
      "Gearbox             286542 non-null object\n",
      "Power               286542 non-null int64\n",
      "Model               286542 non-null object\n",
      "Kilometer           286542 non-null int64\n",
      "FuelType            286542 non-null object\n",
      "Brand               286542 non-null object\n",
      "NotRepaired         286542 non-null object\n",
      "dtypes: int64(4), object(6)\n",
      "memory usage: 21.9+ MB\n"
     ]
    }
   ],
   "source": [
    "autos = autos.fillna('null')\n",
    "autos.info()"
   ]
  },
  {
   "cell_type": "markdown",
   "metadata": {},
   "source": [
    "Выделим целевой признак, закодируем категориальные признаки и разделим полученные датасеты на обучающую и тестовую выборки."
   ]
  },
  {
   "cell_type": "code",
   "execution_count": 18,
   "metadata": {},
   "outputs": [
    {
     "name": "stdout",
     "output_type": "stream",
     "text": [
      "            features       features (ohe)    target         \n",
      "Обучающая:  (214906, 9)    (214906, 309)     (214906,)   \n",
      "Тестовая:   (71636, 9)     (71636, 309)      (71636,)    \n"
     ]
    }
   ],
   "source": [
    "features = autos.drop('Price', axis=1)\n",
    "target = autos['Price']\n",
    "\n",
    "features_ohe = pd.get_dummies(features, drop_first=True)\n",
    "\n",
    "features_train, features_test, features_ohe_train, features_ohe_test, target_train, target_test = \\\n",
    "    train_test_split(features, features_ohe, target, test_size=0.25, random_state=1)\n",
    "\n",
    "print(' ' * 12 + '{:<14} {:<17} {:<15}'.format('features', 'features (ohe)', 'target'))\n",
    "print('Обучающая: {:^14} {:^15} {:^15}'.format(str(features_train.shape), \n",
    "                                               str(features_ohe_train.shape), \n",
    "                                               str(target_train.shape)))\n",
    "print('Тестовая: {:^15} {:^15} {:^15}'.format(str(features_test.shape), \n",
    "                                              str(features_ohe_test.shape), \n",
    "                                              str(target_test.shape)))"
   ]
  },
  {
   "cell_type": "markdown",
   "metadata": {},
   "source": [
    "Составим список категориальных признаков."
   ]
  },
  {
   "cell_type": "code",
   "execution_count": 19,
   "metadata": {},
   "outputs": [
    {
     "data": {
      "text/plain": [
       "['VehicleType', 'Gearbox', 'Model', 'FuelType', 'Brand', 'NotRepaired']"
      ]
     },
     "execution_count": 19,
     "metadata": {},
     "output_type": "execute_result"
    }
   ],
   "source": [
    "cat = list(features_train.select_dtypes(include='object').columns)\n",
    "cat"
   ]
  },
  {
   "cell_type": "markdown",
   "metadata": {},
   "source": [
    "Зададим RMSE-scorer для дальнейшего использования в качестве метрики для кросс-валидации."
   ]
  },
  {
   "cell_type": "code",
   "execution_count": 20,
   "metadata": {},
   "outputs": [],
   "source": [
    "def rmse(y_true, y_predict):\n",
    "    return (((y_true - y_predict) ** 2).mean()) ** 0.5\n",
    "\n",
    "rmse_score = make_scorer(rmse, greater_is_better=False) "
   ]
  },
  {
   "cell_type": "markdown",
   "metadata": {},
   "source": [
    "### Вывод\n",
    "\n",
    "В ходе предобработки были выявлены и удалены дубликаты, заполнена часть пропусков на основе информации из дубликатов, удалены неинформативные объекты и признаки, а также объекты, содержащие некорректную информацию и выбросы. Пропущенные значения переведены в отдельную категорию. Итоговый датафрейм содержит 286542 строк и 10 столбцов. Выделен целевой признак, закодированы категориальные признаки. Датасет разбит на обучающую и тестовую выборки. Создан RMSE-scorer для оценки качества моделей."
   ]
  },
  {
   "cell_type": "markdown",
   "metadata": {},
   "source": [
    "### 2. Обучение моделей"
   ]
  },
  {
   "cell_type": "markdown",
   "metadata": {},
   "source": [
    "С помощью функции *GridSearchCV* обучим по сетке с различными гиперпараметрами модели градиентного бустинга, основанные на библиотеке *CatBoost*. Определим гиперпараметры с наилучшей метрикой RMSE."
   ]
  },
  {
   "cell_type": "code",
   "execution_count": 21,
   "metadata": {
    "scrolled": false
   },
   "outputs": [
    {
     "name": "stdout",
     "output_type": "stream",
     "text": [
      "CatBoost\n",
      "Лучшие гиперпараметры:  {'depth': 4, 'learning_rate': 0.7000000000000001}\n",
      "RMSE = 1610.51\n"
     ]
    }
   ],
   "source": [
    "model = CatBoostRegressor(iterations=200, cat_features=cat, verbose=0)\n",
    "parameters = {'learning_rate': np.arange(0.1, 1, 0.2),\n",
    "              'depth': np.arange(2, 5)}\n",
    "cb_grid = GridSearchCV(model, parameters, cv=3, n_jobs=-1, scoring=rmse_score)\n",
    "cb_grid.fit(features_train, target_train)\n",
    "\n",
    "print('CatBoost')\n",
    "print('Лучшие гиперпараметры: ', cb_grid.best_params_)\n",
    "print('RMSE = {:.2f}'.format(abs(cb_grid.best_score_)))"
   ]
  },
  {
   "cell_type": "markdown",
   "metadata": {},
   "source": [
    "Аналогичным образом обучим модели градиентного бустинга, основанные на библиотеке LightGBM, и определим лучшие гиперпараметры."
   ]
  },
  {
   "cell_type": "code",
   "execution_count": 22,
   "metadata": {
    "scrolled": true
   },
   "outputs": [
    {
     "name": "stdout",
     "output_type": "stream",
     "text": [
      "LightGBM\n",
      "Лучшие гиперпараметры:  {'learning_rate': 0.7000000000000001, 'max_depth': 4}\n",
      "RMSE = 1645.32\n"
     ]
    }
   ],
   "source": [
    "model = LGBMRegressor(iterations=200)\n",
    "parameters = {'learning_rate': np.arange(0.1, 1, 0.2),\n",
    "              'max_depth': np.arange(2, 5)}\n",
    "lgbm_grid = GridSearchCV(model, parameters, cv=3, n_jobs=-1, scoring=rmse_score)\n",
    "lgbm_grid.fit(features_ohe_train, target_train)\n",
    "\n",
    "print('LightGBM')\n",
    "print('Лучшие гиперпараметры: ', lgbm_grid.best_params_)\n",
    "print('RMSE = {:.2f}'.format(abs(lgbm_grid.best_score_)))"
   ]
  },
  {
   "cell_type": "markdown",
   "metadata": {},
   "source": [
    "Обучим различные модели случайного леса и определим гиперпараметр с наилучшими результатами."
   ]
  },
  {
   "cell_type": "code",
   "execution_count": 23,
   "metadata": {},
   "outputs": [
    {
     "name": "stdout",
     "output_type": "stream",
     "text": [
      "Случайный лес\n",
      "Лучшие гиперпараметры:  {'max_depth': 6}\n",
      "RMSE = 2188.17\n"
     ]
    }
   ],
   "source": [
    "model = RandomForestRegressor(n_estimators=200, random_state=1)\n",
    "parameters = {'max_depth': np.arange(2, 7, 2)}\n",
    "rf_grid = GridSearchCV(model, parameters, cv=3, n_jobs=-1, scoring=rmse_score)\n",
    "rf_grid.fit(features_ohe_train, target_train)\n",
    "print('Случайный лес')\n",
    "print('Лучшие гиперпараметры: ', (rf_grid.best_params_))\n",
    "print('RMSE = {:.2f}'.format(abs(rf_grid.best_score_)))"
   ]
  },
  {
   "cell_type": "markdown",
   "metadata": {},
   "source": [
    "Обучим модель линейной регрессии с кросс-валидацией."
   ]
  },
  {
   "cell_type": "code",
   "execution_count": 24,
   "metadata": {},
   "outputs": [
    {
     "name": "stdout",
     "output_type": "stream",
     "text": [
      "Линейная регрессия\n",
      "RMSE = 2380.05\n"
     ]
    }
   ],
   "source": [
    "model = LinearRegression()\n",
    "lr_cv = cross_validate(model, features_ohe_train, target_train, cv=3, n_jobs=-1, scoring=rmse_score)\n",
    "print('Линейная регрессия')\n",
    "print('RMSE = {:.2f}'.format(abs(lr_cv['test_score'].mean())))"
   ]
  },
  {
   "cell_type": "markdown",
   "metadata": {},
   "source": [
    "### 3. Анализ и тестирование модели"
   ]
  },
  {
   "cell_type": "markdown",
   "metadata": {},
   "source": [
    "Исследуем полученные результаты более подробно."
   ]
  },
  {
   "cell_type": "code",
   "execution_count": 25,
   "metadata": {},
   "outputs": [
    {
     "name": "stdout",
     "output_type": "stream",
     "text": [
      "CatBoost\n"
     ]
    },
    {
     "data": {
      "text/html": [
       "<div>\n",
       "<style scoped>\n",
       "    .dataframe tbody tr th:only-of-type {\n",
       "        vertical-align: middle;\n",
       "    }\n",
       "\n",
       "    .dataframe tbody tr th {\n",
       "        vertical-align: top;\n",
       "    }\n",
       "\n",
       "    .dataframe thead th {\n",
       "        text-align: right;\n",
       "    }\n",
       "</style>\n",
       "<table border=\"1\" class=\"dataframe\">\n",
       "  <thead>\n",
       "    <tr style=\"text-align: right;\">\n",
       "      <th></th>\n",
       "      <th>param_depth</th>\n",
       "      <th>param_learning_rate</th>\n",
       "      <th>mean_fit_time</th>\n",
       "      <th>mean_score_time</th>\n",
       "      <th>mean_test_score</th>\n",
       "    </tr>\n",
       "  </thead>\n",
       "  <tbody>\n",
       "    <tr>\n",
       "      <td>13</td>\n",
       "      <td>4</td>\n",
       "      <td>0.7</td>\n",
       "      <td>68.09</td>\n",
       "      <td>0.37</td>\n",
       "      <td>1610.51</td>\n",
       "    </tr>\n",
       "    <tr>\n",
       "      <td>12</td>\n",
       "      <td>4</td>\n",
       "      <td>0.5</td>\n",
       "      <td>68.61</td>\n",
       "      <td>0.42</td>\n",
       "      <td>1616.21</td>\n",
       "    </tr>\n",
       "    <tr>\n",
       "      <td>14</td>\n",
       "      <td>4</td>\n",
       "      <td>0.9</td>\n",
       "      <td>67.45</td>\n",
       "      <td>0.4</td>\n",
       "      <td>1622.56</td>\n",
       "    </tr>\n",
       "    <tr>\n",
       "      <td>11</td>\n",
       "      <td>4</td>\n",
       "      <td>0.3</td>\n",
       "      <td>68.29</td>\n",
       "      <td>0.36</td>\n",
       "      <td>1623.47</td>\n",
       "    </tr>\n",
       "    <tr>\n",
       "      <td>8</td>\n",
       "      <td>3</td>\n",
       "      <td>0.7</td>\n",
       "      <td>51.19</td>\n",
       "      <td>0.3</td>\n",
       "      <td>1645.62</td>\n",
       "    </tr>\n",
       "    <tr>\n",
       "      <td>7</td>\n",
       "      <td>3</td>\n",
       "      <td>0.5</td>\n",
       "      <td>50.12</td>\n",
       "      <td>0.3</td>\n",
       "      <td>1649.66</td>\n",
       "    </tr>\n",
       "    <tr>\n",
       "      <td>9</td>\n",
       "      <td>3</td>\n",
       "      <td>0.9</td>\n",
       "      <td>49.45</td>\n",
       "      <td>0.3</td>\n",
       "      <td>1649.74</td>\n",
       "    </tr>\n",
       "    <tr>\n",
       "      <td>6</td>\n",
       "      <td>3</td>\n",
       "      <td>0.3</td>\n",
       "      <td>50.12</td>\n",
       "      <td>0.3</td>\n",
       "      <td>1672.82</td>\n",
       "    </tr>\n",
       "    <tr>\n",
       "      <td>10</td>\n",
       "      <td>4</td>\n",
       "      <td>0.1</td>\n",
       "      <td>68.02</td>\n",
       "      <td>0.3</td>\n",
       "      <td>1697.7</td>\n",
       "    </tr>\n",
       "    <tr>\n",
       "      <td>4</td>\n",
       "      <td>2</td>\n",
       "      <td>0.9</td>\n",
       "      <td>32.99</td>\n",
       "      <td>0.24</td>\n",
       "      <td>1709.52</td>\n",
       "    </tr>\n",
       "  </tbody>\n",
       "</table>\n",
       "</div>"
      ],
      "text/plain": [
       "   param_depth param_learning_rate mean_fit_time mean_score_time  \\\n",
       "13           4                 0.7         68.09            0.37   \n",
       "12           4                 0.5         68.61            0.42   \n",
       "14           4                 0.9         67.45             0.4   \n",
       "11           4                 0.3         68.29            0.36   \n",
       "8            3                 0.7         51.19             0.3   \n",
       "7            3                 0.5         50.12             0.3   \n",
       "9            3                 0.9         49.45             0.3   \n",
       "6            3                 0.3         50.12             0.3   \n",
       "10           4                 0.1         68.02             0.3   \n",
       "4            2                 0.9         32.99            0.24   \n",
       "\n",
       "   mean_test_score  \n",
       "13         1610.51  \n",
       "12         1616.21  \n",
       "14         1622.56  \n",
       "11         1623.47  \n",
       "8          1645.62  \n",
       "7          1649.66  \n",
       "9          1649.74  \n",
       "6          1672.82  \n",
       "10          1697.7  \n",
       "4          1709.52  "
      ]
     },
     "metadata": {},
     "output_type": "display_data"
    },
    {
     "name": "stdout",
     "output_type": "stream",
     "text": [
      "LightGBM\n"
     ]
    },
    {
     "data": {
      "text/html": [
       "<div>\n",
       "<style scoped>\n",
       "    .dataframe tbody tr th:only-of-type {\n",
       "        vertical-align: middle;\n",
       "    }\n",
       "\n",
       "    .dataframe tbody tr th {\n",
       "        vertical-align: top;\n",
       "    }\n",
       "\n",
       "    .dataframe thead th {\n",
       "        text-align: right;\n",
       "    }\n",
       "</style>\n",
       "<table border=\"1\" class=\"dataframe\">\n",
       "  <thead>\n",
       "    <tr style=\"text-align: right;\">\n",
       "      <th></th>\n",
       "      <th>param_max_depth</th>\n",
       "      <th>param_learning_rate</th>\n",
       "      <th>mean_fit_time</th>\n",
       "      <th>mean_score_time</th>\n",
       "      <th>mean_test_score</th>\n",
       "    </tr>\n",
       "  </thead>\n",
       "  <tbody>\n",
       "    <tr>\n",
       "      <td>11</td>\n",
       "      <td>4</td>\n",
       "      <td>0.7</td>\n",
       "      <td>88.45</td>\n",
       "      <td>0.98</td>\n",
       "      <td>1645.32</td>\n",
       "    </tr>\n",
       "    <tr>\n",
       "      <td>8</td>\n",
       "      <td>4</td>\n",
       "      <td>0.5</td>\n",
       "      <td>5.68</td>\n",
       "      <td>0.88</td>\n",
       "      <td>1654.35</td>\n",
       "    </tr>\n",
       "    <tr>\n",
       "      <td>14</td>\n",
       "      <td>4</td>\n",
       "      <td>0.9</td>\n",
       "      <td>89.11</td>\n",
       "      <td>0.95</td>\n",
       "      <td>1658.06</td>\n",
       "    </tr>\n",
       "    <tr>\n",
       "      <td>5</td>\n",
       "      <td>4</td>\n",
       "      <td>0.3</td>\n",
       "      <td>5.53</td>\n",
       "      <td>0.9</td>\n",
       "      <td>1671.04</td>\n",
       "    </tr>\n",
       "    <tr>\n",
       "      <td>10</td>\n",
       "      <td>3</td>\n",
       "      <td>0.7</td>\n",
       "      <td>34.77</td>\n",
       "      <td>0.86</td>\n",
       "      <td>1698.4</td>\n",
       "    </tr>\n",
       "    <tr>\n",
       "      <td>13</td>\n",
       "      <td>3</td>\n",
       "      <td>0.9</td>\n",
       "      <td>71.35</td>\n",
       "      <td>0.94</td>\n",
       "      <td>1699.26</td>\n",
       "    </tr>\n",
       "    <tr>\n",
       "      <td>7</td>\n",
       "      <td>3</td>\n",
       "      <td>0.5</td>\n",
       "      <td>5.73</td>\n",
       "      <td>0.84</td>\n",
       "      <td>1702.17</td>\n",
       "    </tr>\n",
       "    <tr>\n",
       "      <td>4</td>\n",
       "      <td>3</td>\n",
       "      <td>0.3</td>\n",
       "      <td>49.87</td>\n",
       "      <td>0.82</td>\n",
       "      <td>1728.86</td>\n",
       "    </tr>\n",
       "    <tr>\n",
       "      <td>2</td>\n",
       "      <td>4</td>\n",
       "      <td>0.1</td>\n",
       "      <td>5.83</td>\n",
       "      <td>0.91</td>\n",
       "      <td>1745.08</td>\n",
       "    </tr>\n",
       "    <tr>\n",
       "      <td>12</td>\n",
       "      <td>2</td>\n",
       "      <td>0.9</td>\n",
       "      <td>43.37</td>\n",
       "      <td>0.81</td>\n",
       "      <td>1788.41</td>\n",
       "    </tr>\n",
       "  </tbody>\n",
       "</table>\n",
       "</div>"
      ],
      "text/plain": [
       "   param_max_depth param_learning_rate mean_fit_time mean_score_time  \\\n",
       "11               4                 0.7         88.45            0.98   \n",
       "8                4                 0.5          5.68            0.88   \n",
       "14               4                 0.9         89.11            0.95   \n",
       "5                4                 0.3          5.53             0.9   \n",
       "10               3                 0.7         34.77            0.86   \n",
       "13               3                 0.9         71.35            0.94   \n",
       "7                3                 0.5          5.73            0.84   \n",
       "4                3                 0.3         49.87            0.82   \n",
       "2                4                 0.1          5.83            0.91   \n",
       "12               2                 0.9         43.37            0.81   \n",
       "\n",
       "   mean_test_score  \n",
       "11         1645.32  \n",
       "8          1654.35  \n",
       "14         1658.06  \n",
       "5          1671.04  \n",
       "10          1698.4  \n",
       "13         1699.26  \n",
       "7          1702.17  \n",
       "4          1728.86  \n",
       "2          1745.08  \n",
       "12         1788.41  "
      ]
     },
     "metadata": {},
     "output_type": "display_data"
    },
    {
     "name": "stdout",
     "output_type": "stream",
     "text": [
      "Случайный лес\n"
     ]
    },
    {
     "data": {
      "text/html": [
       "<div>\n",
       "<style scoped>\n",
       "    .dataframe tbody tr th:only-of-type {\n",
       "        vertical-align: middle;\n",
       "    }\n",
       "\n",
       "    .dataframe tbody tr th {\n",
       "        vertical-align: top;\n",
       "    }\n",
       "\n",
       "    .dataframe thead th {\n",
       "        text-align: right;\n",
       "    }\n",
       "</style>\n",
       "<table border=\"1\" class=\"dataframe\">\n",
       "  <thead>\n",
       "    <tr style=\"text-align: right;\">\n",
       "      <th></th>\n",
       "      <th>param_max_depth</th>\n",
       "      <th>mean_fit_time</th>\n",
       "      <th>mean_score_time</th>\n",
       "      <th>mean_test_score</th>\n",
       "    </tr>\n",
       "  </thead>\n",
       "  <tbody>\n",
       "    <tr>\n",
       "      <td>2</td>\n",
       "      <td>6</td>\n",
       "      <td>268.6</td>\n",
       "      <td>0.91</td>\n",
       "      <td>2188.17</td>\n",
       "    </tr>\n",
       "    <tr>\n",
       "      <td>1</td>\n",
       "      <td>4</td>\n",
       "      <td>174.02</td>\n",
       "      <td>0.71</td>\n",
       "      <td>2568.59</td>\n",
       "    </tr>\n",
       "    <tr>\n",
       "      <td>0</td>\n",
       "      <td>2</td>\n",
       "      <td>79.72</td>\n",
       "      <td>0.48</td>\n",
       "      <td>3174.19</td>\n",
       "    </tr>\n",
       "  </tbody>\n",
       "</table>\n",
       "</div>"
      ],
      "text/plain": [
       "  param_max_depth mean_fit_time mean_score_time mean_test_score\n",
       "2               6         268.6            0.91         2188.17\n",
       "1               4        174.02            0.71         2568.59\n",
       "0               2         79.72            0.48         3174.19"
      ]
     },
     "metadata": {},
     "output_type": "display_data"
    },
    {
     "name": "stdout",
     "output_type": "stream",
     "text": [
      "Линейная регрессия\n"
     ]
    },
    {
     "data": {
      "text/html": [
       "<div>\n",
       "<style scoped>\n",
       "    .dataframe tbody tr th:only-of-type {\n",
       "        vertical-align: middle;\n",
       "    }\n",
       "\n",
       "    .dataframe tbody tr th {\n",
       "        vertical-align: top;\n",
       "    }\n",
       "\n",
       "    .dataframe thead th {\n",
       "        text-align: right;\n",
       "    }\n",
       "</style>\n",
       "<table border=\"1\" class=\"dataframe\">\n",
       "  <thead>\n",
       "    <tr style=\"text-align: right;\">\n",
       "      <th></th>\n",
       "      <th>fit_time</th>\n",
       "      <th>score_time</th>\n",
       "      <th>test_score</th>\n",
       "    </tr>\n",
       "  </thead>\n",
       "  <tbody>\n",
       "    <tr>\n",
       "      <td>0</td>\n",
       "      <td>15.52</td>\n",
       "      <td>0.26</td>\n",
       "      <td>2380.05</td>\n",
       "    </tr>\n",
       "  </tbody>\n",
       "</table>\n",
       "</div>"
      ],
      "text/plain": [
       "   fit_time  score_time  test_score\n",
       "0     15.52        0.26     2380.05"
      ]
     },
     "metadata": {},
     "output_type": "display_data"
    }
   ],
   "source": [
    "print('CatBoost')\n",
    "cb_result = abs(round(pd.DataFrame(cb_grid.cv_results_)\n",
    "                      .iloc[:, [4, 5, 0, 2, 10]]\n",
    "                      .sort_values('mean_test_score', ascending=False)\n",
    "                      .head(10), 2))\n",
    "display(cb_result)\n",
    "    \n",
    "print('LightGBM')\n",
    "lgbm_result = abs(round(pd.DataFrame(lgbm_grid.cv_results_)\n",
    "                        .iloc[:, [5, 4, 0, 2, 10]]\n",
    "                        .sort_values('mean_test_score', ascending=False)\n",
    "                        .head(10), 2))\n",
    "display(lgbm_result)\n",
    "\n",
    "print('Случайный лес')\n",
    "rf_result = abs(round(pd.DataFrame(rf_grid.cv_results_)\n",
    "                      .iloc[:, [4, 0, 2, 9]]\n",
    "                      .sort_values('mean_test_score', ascending=False), 2))\n",
    "display(rf_result)\n",
    "        \n",
    "print('Линейная регрессия')\n",
    "lr_result = abs(round(pd.DataFrame(pd.DataFrame(lr_cv).mean()).transpose(), 2))\n",
    "display(lr_result)"
   ]
  },
  {
   "cell_type": "markdown",
   "metadata": {},
   "source": [
    "Из полученных таблиц видно, что модели случайного леса (2188.17) и линейной регрессии (2380.05) значительно уступают по качеству моделям из семейства градиентного бустинга. Для обеих используемых библиотек, основанных на градиентном бустинге, рейтинг различных сочетаний гиперпараметров depth и learning rate выглядит одинаково, при этом значения метрики RMSE у *CatBoost* немного лучше. Самый хороший результат применительно к метрике (1610.51) показла модель библиотеки *CatBoost* с глубиной деревьев, равной 4, и learning rate, равным 0.7. Однако время обучения моделей *CatBoost* оказалось на порядок больше, чем у некоторых моделей *LightGBM*. Поскольку заказчику важно не только качество, но и скорость работы, в качестве финальной модели выберем модель градиентного бустинга, основанную на библиотеке *LightGBM*, с глубиной деревьев, равной 4, и learning rate, равным 0.5, RMSE которой на кросс-валидации составил 1654.35, время обучения — 5.68 сек., а время предсказания — 0.88 сек. Обучим её на всей тренировочной выборке, проверим скорость обучения, а также качество предсказаний на тестовой выборке."
   ]
  },
  {
   "cell_type": "code",
   "execution_count": 33,
   "metadata": {},
   "outputs": [],
   "source": [
    "model = LGBMRegressor(iterations=200, learning_rate=0.5, max_depth=4)"
   ]
  },
  {
   "cell_type": "code",
   "execution_count": 34,
   "metadata": {},
   "outputs": [
    {
     "name": "stdout",
     "output_type": "stream",
     "text": [
      "CPU times: user 6.68 s, sys: 317 ms, total: 7 s\n",
      "Wall time: 7.02 s\n"
     ]
    },
    {
     "data": {
      "text/plain": [
       "LGBMRegressor(boosting_type='gbdt', class_weight=None, colsample_bytree=1.0,\n",
       "              importance_type='split', iterations=200, learning_rate=0.5,\n",
       "              max_depth=4, min_child_samples=20, min_child_weight=0.001,\n",
       "              min_split_gain=0.0, n_estimators=100, n_jobs=-1, num_leaves=31,\n",
       "              objective=None, random_state=None, reg_alpha=0.0, reg_lambda=0.0,\n",
       "              silent=True, subsample=1.0, subsample_for_bin=200000,\n",
       "              subsample_freq=0)"
      ]
     },
     "execution_count": 34,
     "metadata": {},
     "output_type": "execute_result"
    }
   ],
   "source": [
    "%%time\n",
    "model.fit(features_ohe_train, target_train);"
   ]
  },
  {
   "cell_type": "code",
   "execution_count": 35,
   "metadata": {},
   "outputs": [
    {
     "name": "stdout",
     "output_type": "stream",
     "text": [
      "CPU times: user 716 ms, sys: 109 ms, total: 825 ms\n",
      "Wall time: 770 ms\n"
     ]
    }
   ],
   "source": [
    "%%time\n",
    "predictions = model.predict(features_ohe_test)"
   ]
  },
  {
   "cell_type": "code",
   "execution_count": 36,
   "metadata": {},
   "outputs": [
    {
     "name": "stdout",
     "output_type": "stream",
     "text": [
      "RMSE = 1665.55\n"
     ]
    }
   ],
   "source": [
    "print('RMSE = {:.2f}'.format(rmse(target_test, predictions)))"
   ]
  },
  {
   "cell_type": "markdown",
   "metadata": {},
   "source": [
    "Таким образом, итоговая метрика RMSE на тестовой выборке составила 1665.55, время обучения — 7.02 сек., а время предсказания — 0.77 сек."
   ]
  },
  {
   "cell_type": "markdown",
   "metadata": {},
   "source": [
    "### 4. Вывод\n",
    "\n",
    "В ходе выполнения проекта проведена предобработка данных, обучены модель линейной регрессии, а также модели случайного леса и градиентного бустинга на основе библиотек *CatBoost* и *LightGBM*  c различными гиперпараметрами. Установлено, что модели случайного леса и линейной регрессии значительно уступают в качестве моделям из семейства градиентного бустинга. Модели *CatBoost* дают немного более высокое качество предсказаний, чем *LightGBM*, однако работают на порядок дольше. Основные показатели лучшей модели каждого алгоритма представлены в таблице."
   ]
  },
  {
   "cell_type": "code",
   "execution_count": 38,
   "metadata": {
    "scrolled": true
   },
   "outputs": [
    {
     "data": {
      "text/html": [
       "<div>\n",
       "<style scoped>\n",
       "    .dataframe tbody tr th:only-of-type {\n",
       "        vertical-align: middle;\n",
       "    }\n",
       "\n",
       "    .dataframe tbody tr th {\n",
       "        vertical-align: top;\n",
       "    }\n",
       "\n",
       "    .dataframe thead th {\n",
       "        text-align: right;\n",
       "    }\n",
       "</style>\n",
       "<table border=\"1\" class=\"dataframe\">\n",
       "  <thead>\n",
       "    <tr style=\"text-align: right;\">\n",
       "      <th></th>\n",
       "      <th>RMSE</th>\n",
       "      <th>Время обучения</th>\n",
       "      <th>Время предсказания</th>\n",
       "    </tr>\n",
       "  </thead>\n",
       "  <tbody>\n",
       "    <tr>\n",
       "      <td>CatBoost</td>\n",
       "      <td>1610.51</td>\n",
       "      <td>68.09</td>\n",
       "      <td>0.37</td>\n",
       "    </tr>\n",
       "    <tr>\n",
       "      <td>LightGBM</td>\n",
       "      <td>1654.35</td>\n",
       "      <td>5.68</td>\n",
       "      <td>0.88</td>\n",
       "    </tr>\n",
       "    <tr>\n",
       "      <td>Случайный лес</td>\n",
       "      <td>2188.17</td>\n",
       "      <td>268.60</td>\n",
       "      <td>0.91</td>\n",
       "    </tr>\n",
       "    <tr>\n",
       "      <td>Линейная регрессия</td>\n",
       "      <td>2380.05</td>\n",
       "      <td>15.52</td>\n",
       "      <td>0.26</td>\n",
       "    </tr>\n",
       "  </tbody>\n",
       "</table>\n",
       "</div>"
      ],
      "text/plain": [
       "                       RMSE  Время обучения  Время предсказания\n",
       "CatBoost            1610.51           68.09                0.37\n",
       "LightGBM            1654.35            5.68                0.88\n",
       "Случайный лес       2188.17          268.60                0.91\n",
       "Линейная регрессия  2380.05           15.52                0.26"
      ]
     },
     "execution_count": 38,
     "metadata": {},
     "output_type": "execute_result"
    }
   ],
   "source": [
    "pd.DataFrame({'RMSE': [cb_result.iloc[0, 4], lgbm_result.iloc[1, 4], rf_result.iloc[0, 3], lr_result.iloc[0, 2]],\n",
    "              'Время обучения': [cb_result.iloc[0, 2], lgbm_result.iloc[1, 2], rf_result.iloc[0, 1], lr_result.iloc[0, 0]],\n",
    "              'Время предсказания':[cb_result.iloc[0, 3], lgbm_result.iloc[1, 3], rf_result.iloc[0, 2], lr_result.iloc[0, 1]]},\n",
    "             index=['CatBoost', 'LightGBM', 'Случайный лес', 'Линейная регрессия'])"
   ]
  },
  {
   "cell_type": "markdown",
   "metadata": {},
   "source": [
    "В качестве финальной выбрана модель, основанная на библиотеке *LightGBM*, со следующими гиперпараметрами:\n",
    "* iterations = 200;\n",
    "* learning_rate = 0.5;\n",
    "* max_depth = 4.\n",
    "\n",
    "Проведена проверка данной модели на тестовой выборке. Итоговая метрика RMSE оказалась равна 1665.55 при времени обучения 7.02 сек. и времени предсказания 0.77 сек."
   ]
  }
 ],
 "metadata": {
  "kernelspec": {
   "display_name": "Python 3",
   "language": "python",
   "name": "python3"
  },
  "language_info": {
   "codemirror_mode": {
    "name": "ipython",
    "version": 3
   },
   "file_extension": ".py",
   "mimetype": "text/x-python",
   "name": "python",
   "nbconvert_exporter": "python",
   "pygments_lexer": "ipython3",
   "version": "3.7.6"
  }
 },
 "nbformat": 4,
 "nbformat_minor": 2
}
